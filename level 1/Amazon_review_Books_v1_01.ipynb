{
  "nbformat": 4,
  "nbformat_minor": 0,
  "metadata": {
    "colab": {
      "name": "Amazon-review:Books_v1_01.ipynb",
      "provenance": []
    },
    "kernelspec": {
      "name": "python3",
      "display_name": "Python 3"
    },
    "language_info": {
      "name": "python"
    }
  },
  "cells": [
    {
      "cell_type": "code",
      "execution_count": 1,
      "metadata": {
        "colab": {
          "base_uri": "https://localhost:8080/"
        },
        "id": "DyHixqvqkJVy",
        "outputId": "f127ed22-577c-4564-a5a5-0112ab338173"
      },
      "outputs": [
        {
          "output_type": "stream",
          "name": "stdout",
          "text": [
            "Get:1 http://security.ubuntu.com/ubuntu bionic-security InRelease [88.7 kB]\n",
            "Get:2 https://cloud.r-project.org/bin/linux/ubuntu bionic-cran40/ InRelease [3,626 B]\n",
            "Ign:3 https://developer.download.nvidia.com/compute/cuda/repos/ubuntu1804/x86_64  InRelease\n",
            "Get:4 http://ppa.launchpad.net/c2d4u.team/c2d4u4.0+/ubuntu bionic InRelease [15.9 kB]\n",
            "Hit:5 http://archive.ubuntu.com/ubuntu bionic InRelease\n",
            "Ign:6 https://developer.download.nvidia.com/compute/machine-learning/repos/ubuntu1804/x86_64  InRelease\n",
            "Get:7 https://developer.download.nvidia.com/compute/cuda/repos/ubuntu1804/x86_64  Release [696 B]\n",
            "Hit:8 https://developer.download.nvidia.com/compute/machine-learning/repos/ubuntu1804/x86_64  Release\n",
            "Get:9 https://developer.download.nvidia.com/compute/cuda/repos/ubuntu1804/x86_64  Release.gpg [836 B]\n",
            "Get:10 http://archive.ubuntu.com/ubuntu bionic-updates InRelease [88.7 kB]\n",
            "Hit:11 http://ppa.launchpad.net/cran/libgit2/ubuntu bionic InRelease\n",
            "Get:12 https://cloud.r-project.org/bin/linux/ubuntu bionic-cran40/ Packages [76.8 kB]\n",
            "Get:13 http://archive.ubuntu.com/ubuntu bionic-backports InRelease [74.6 kB]\n",
            "Hit:14 http://ppa.launchpad.net/deadsnakes/ppa/ubuntu bionic InRelease\n",
            "Get:15 http://ppa.launchpad.net/graphics-drivers/ppa/ubuntu bionic InRelease [21.3 kB]\n",
            "Get:16 http://security.ubuntu.com/ubuntu bionic-security/restricted amd64 Packages [806 kB]\n",
            "Get:17 http://security.ubuntu.com/ubuntu bionic-security/universe amd64 Packages [1,474 kB]\n",
            "Get:18 http://security.ubuntu.com/ubuntu bionic-security/main amd64 Packages [2,596 kB]\n",
            "Get:20 https://developer.download.nvidia.com/compute/cuda/repos/ubuntu1804/x86_64  Packages [931 kB]\n",
            "Get:21 http://ppa.launchpad.net/c2d4u.team/c2d4u4.0+/ubuntu bionic/main Sources [1,827 kB]\n",
            "Get:22 http://ppa.launchpad.net/c2d4u.team/c2d4u4.0+/ubuntu bionic/main amd64 Packages [936 kB]\n",
            "Get:23 http://archive.ubuntu.com/ubuntu bionic-updates/restricted amd64 Packages [840 kB]\n",
            "Get:24 http://archive.ubuntu.com/ubuntu bionic-updates/main amd64 Packages [3,036 kB]\n",
            "Get:25 http://archive.ubuntu.com/ubuntu bionic-updates/universe amd64 Packages [2,252 kB]\n",
            "Get:26 http://ppa.launchpad.net/graphics-drivers/ppa/ubuntu bionic/main amd64 Packages [42.8 kB]\n",
            "Fetched 15.1 MB in 7s (2,039 kB/s)\n",
            "Reading package lists... Done\n"
          ]
        }
      ],
      "source": [
        "import os\n",
        "# Find the latest version of spark 3.0  from http://www.apache.org/dist/spark/ and enter as the spark version\n",
        "# For example:\n",
        "# spark_version = 'spark-3.0.3'\n",
        "spark_version = 'spark-3.2.1'\n",
        "os.environ['SPARK_VERSION']=spark_version\n",
        "\n",
        "# Install Spark and Java\n",
        "!apt-get update\n",
        "!apt-get install openjdk-8-jdk-headless -qq > /dev/null\n",
        "!wget -q http://www.apache.org/dist/spark/$SPARK_VERSION/$SPARK_VERSION-bin-hadoop2.7.tgz\n",
        "!tar xf $SPARK_VERSION-bin-hadoop2.7.tgz\n",
        "!pip install -q findspark\n",
        "\n",
        "# Set Environment Variables\n",
        "os.environ[\"JAVA_HOME\"] = \"/usr/lib/jvm/java-8-openjdk-amd64\"\n",
        "os.environ[\"SPARK_HOME\"] = f\"/content/{spark_version}-bin-hadoop2.7\"\n",
        "\n",
        "# Start a SparkSession\n",
        "import findspark\n",
        "findspark.init()"
      ]
    },
    {
      "cell_type": "code",
      "source": [
        "!wget https://jdbc.postgresql.org/download/postgresql-42.2.9.jar "
      ],
      "metadata": {
        "colab": {
          "base_uri": "https://localhost:8080/"
        },
        "id": "AwyzOnPDEJO-",
        "outputId": "e27046b1-7186-4d32-f83c-01527ef8f521"
      },
      "execution_count": 2,
      "outputs": [
        {
          "output_type": "stream",
          "name": "stdout",
          "text": [
            "--2022-03-06 07:00:04--  https://jdbc.postgresql.org/download/postgresql-42.2.9.jar\n",
            "Resolving jdbc.postgresql.org (jdbc.postgresql.org)... 72.32.157.228, 2001:4800:3e1:1::228\n",
            "Connecting to jdbc.postgresql.org (jdbc.postgresql.org)|72.32.157.228|:443... connected.\n",
            "HTTP request sent, awaiting response... 200 OK\n",
            "Length: 914037 (893K) [application/java-archive]\n",
            "Saving to: ‘postgresql-42.2.9.jar’\n",
            "\n",
            "postgresql-42.2.9.j 100%[===================>] 892.61K  5.72MB/s    in 0.2s    \n",
            "\n",
            "2022-03-06 07:00:05 (5.72 MB/s) - ‘postgresql-42.2.9.jar’ saved [914037/914037]\n",
            "\n"
          ]
        }
      ]
    },
    {
      "cell_type": "code",
      "source": [
        "# Start Spark session\n",
        "from pyspark.sql import SparkSession\n",
        "spark = SparkSession.builder.appName(\"Amazon_book_review\").getOrCreate()"
      ],
      "metadata": {
        "id": "3IvFc2KumcsD"
      },
      "execution_count": 3,
      "outputs": []
    },
    {
      "cell_type": "code",
      "source": [
        "from pyspark.sql.types import StructType,StructField, StringType, IntegerType"
      ],
      "metadata": {
        "id": "6d48M89ctDYo"
      },
      "execution_count": 4,
      "outputs": []
    },
    {
      "cell_type": "code",
      "source": [
        "# Read in data from S3 Buckets\n",
        "from pyspark import SparkFiles\n",
        "url = 'https://s3.amazonaws.com/amazon-reviews-pds/tsv/amazon_reviews_us_Books_v1_00.tsv.gz'\n",
        "spark.sparkContext.addFile(url)\n",
        "\n",
        "schema = StructType([ \n",
        "    StructField(\"marketplace\",StringType(),True), \n",
        "    StructField(\"customer_id\",IntegerType(),True), \n",
        "    StructField(\"review_id\",StringType(),True), \n",
        "    StructField(\"product_id\", IntegerType(), True),\n",
        "    StructField(\"product_parent\", IntegerType(), True),\n",
        "    StructField(\"product_title\", StringType(), True),\n",
        "    StructField(\"product_category\", StringType(), True),\n",
        "    StructField(\"star_rating\", IntegerType(), True),\n",
        "    StructField('helpful_vote', IntegerType(), True),\n",
        "    StructField('total_votes', IntegerType(), True),\n",
        "    StructField('vine', StringType(), True),\n",
        "    StructField('verified_purchase', StringType(), True),\n",
        "    StructField('review_headline', StringType(), True),\n",
        "    StructField('review_body', StringType(), True),\n",
        "    StructField('review_date', StringType(), True),\n",
        "  ])\n",
        "\n",
        "df = spark.read.csv(SparkFiles.get(\"amazon_reviews_us_Books_v1_00.tsv.gz\"), sep=\"\\t\", header=True, schema=schema, timestampFormat=\"yyyy/MM/dd HH:mm:ss\")\n",
        "\n",
        "# Show DataFrame\n",
        "df.show()"
      ],
      "metadata": {
        "colab": {
          "base_uri": "https://localhost:8080/"
        },
        "id": "O64ujuPFne2I",
        "outputId": "18a69d47-c263-4361-bd2b-bf04298ad558"
      },
      "execution_count": 5,
      "outputs": [
        {
          "output_type": "stream",
          "name": "stdout",
          "text": [
            "+-----------+-----------+--------------+----------+--------------+--------------------+----------------+-----------+------------+-----------+----+-----------------+--------------------+--------------------+-----------+\n",
            "|marketplace|customer_id|     review_id|product_id|product_parent|       product_title|product_category|star_rating|helpful_vote|total_votes|vine|verified_purchase|     review_headline|         review_body|review_date|\n",
            "+-----------+-----------+--------------+----------+--------------+--------------------+----------------+-----------+------------+-----------+----+-----------------+--------------------+--------------------+-----------+\n",
            "|         US|   25933450| RJOVP071AVAJO| 439873800|      84656342|There Was an Old ...|           Books|          5|           0|          0|   N|                Y|          Five Stars|I love it and so ...| 2015-08-31|\n",
            "|         US|    1801372|R1ORGBETCDW3AI|1623953553|     729938122|      I Saw a Friend|           Books|          5|           0|          0|   N|                Y|Please buy \"I Saw...|My wife and I ord...| 2015-08-31|\n",
            "|         US|    5782091| R7TNRFQAOUTX5|      null|     678139048|Black Lagoon, Vol. 6|           Books|          5|           0|          0|   N|                Y|       Shipped fast.|Great book just l...| 2015-08-31|\n",
            "|         US|   32715830|R2GANXKDIFZ6OI|      null|     712432151|           If I Stay|           Books|          5|           0|          0|   N|                N|          Five Stars|        So beautiful| 2015-08-31|\n",
            "|         US|   14005703|R2NYB6C3R8LVN6|1604600527|     800572372|Stars 'N Strips F...|           Books|          5|           2|          2|   N|                Y|          Five Stars|Enjoyed the autho...| 2015-08-31|\n",
            "|         US|   36205738|R13U5PBJI1H94K| 399170863|     559876774|            The Liar|           Books|          2|           1|          1|   N|                N|PREDICTABLE ALMOS...|Two or three page...| 2015-08-31|\n",
            "|         US|   44121167|R1H8UVH990F8VE|1517007240|     299984591|Devil in the Deta...|           Books|          5|           2|          2|   N|                N|The Monastery Mur...|&#34;Secrets in t...| 2015-08-31|\n",
            "|         US|   16519255|R2MC0N30WZMRQ5| 671728725|     821650353|Knowing When to S...|           Books|          5|           0|          0|   N|                Y|          Five Stars|          I love it!| 2015-08-31|\n",
            "|         US|   49361350| R2NO2HXK16Y4J|1111349533|     419457767|The American Pageant|           Books|          5|           0|          0|   N|                Y|          Five Stars|It was a great pu...| 2015-08-31|\n",
            "|         US|   11423253|R245YIAVJK82ZL|      null|     285887177|Punjabi C.L. Bibl...|           Books|          5|           0|          0|   N|                Y|          Five Stars|Quality product f...| 2015-08-31|\n",
            "|         US|   37536260| RFBMLBWQOZ1UM| 679413359|      58983679|The Aeneid (Every...|           Books|          5|           0|          0|   N|                Y|          Five Stars|          Very happy| 2015-08-31|\n",
            "|         US|   23614950| RHE1FEWV3KTQH| 983990662|     222024699|The YMCA of Middl...|           Books|          5|           0|          0|   N|                Y|Great history boo...|Love reading all ...| 2015-08-31|\n",
            "|         US|   12641855|R2BB9U7PHO7ETO|      null|     388128348|Memoirs By Harry ...|           Books|          5|           0|          1|   N|                Y|          Five Stars|such a great purc...| 2015-08-31|\n",
            "|         US|   36327169|R28XJJP754GYXO|      null|     842975364|Arms of our fight...|           Books|          4|           0|          0|   N|                Y|          Four Stars|book was fine Tha...| 2015-08-31|\n",
            "|         US|   49735028|R2G519UREHRO8M| 664254969|     248307276|Presbyterian Cree...|           Books|          3|           0|          1|   N|                Y|The Presbyterian ...|The Presbyterian ...| 2015-08-31|\n",
            "|         US|   39348901| RPBKCEIN3UISD|1570913722|       9340721|Hello Ocean/Hola mar|           Books|          5|           0|          0|   N|                Y|          Five Stars|beautiful work an...| 2015-08-31|\n",
            "|         US|    5782091|R2DOB8482VGJ8W| 345313860|     630892090|The Vampire Lesta...|           Books|          5|           0|          0|   N|                Y|       Shipped fast.|This is my favori...| 2015-08-31|\n",
            "|         US|   30063158|R2XKOET5M8W36S| 670025593|     479521754|The Book of Life ...|           Books|          5|           0|          0|   N|                Y|One of my favorites!|Love Deborah Harn...| 2015-08-31|\n",
            "|         US|     125518|R377BCSTZ4D2QP|      null|     399670838|Disney Descendant...|           Books|          5|           1|          1|   N|                Y|... has all three...|Now my daughter h...| 2015-08-31|\n",
            "|         US|   22297413|R3A39XZ5SB97MK|      null|      47243107|CompTIA A+ Certif...|           Books|          5|           0|          0|   N|                Y|He said it has be...|Bought this book ...| 2015-08-31|\n",
            "+-----------+-----------+--------------+----------+--------------+--------------------+----------------+-----------+------------+-----------+----+-----------------+--------------------+--------------------+-----------+\n",
            "only showing top 20 rows\n",
            "\n"
          ]
        }
      ]
    },
    {
      "cell_type": "code",
      "source": [
        "# total records (number of rows): 10319090 rows (this is huge man)\n",
        "df.count()"
      ],
      "metadata": {
        "colab": {
          "base_uri": "https://localhost:8080/"
        },
        "id": "-b0FiWJVvYwu",
        "outputId": "671b50db-aedf-4916-f0e0-c220885dbb0a"
      },
      "execution_count": 6,
      "outputs": [
        {
          "output_type": "execute_result",
          "data": {
            "text/plain": [
              "10319090"
            ]
          },
          "metadata": {},
          "execution_count": 6
        }
      ]
    },
    {
      "cell_type": "code",
      "source": [
        "df.printSchema()"
      ],
      "metadata": {
        "colab": {
          "base_uri": "https://localhost:8080/"
        },
        "id": "NFLomS0LwVaU",
        "outputId": "34fa3c34-cb14-4a5a-f2a9-a4858ca6ab31"
      },
      "execution_count": 7,
      "outputs": [
        {
          "output_type": "stream",
          "name": "stdout",
          "text": [
            "root\n",
            " |-- marketplace: string (nullable = true)\n",
            " |-- customer_id: integer (nullable = true)\n",
            " |-- review_id: string (nullable = true)\n",
            " |-- product_id: integer (nullable = true)\n",
            " |-- product_parent: integer (nullable = true)\n",
            " |-- product_title: string (nullable = true)\n",
            " |-- product_category: string (nullable = true)\n",
            " |-- star_rating: integer (nullable = true)\n",
            " |-- helpful_vote: integer (nullable = true)\n",
            " |-- total_votes: integer (nullable = true)\n",
            " |-- vine: string (nullable = true)\n",
            " |-- verified_purchase: string (nullable = true)\n",
            " |-- review_headline: string (nullable = true)\n",
            " |-- review_body: string (nullable = true)\n",
            " |-- review_date: string (nullable = true)\n",
            "\n"
          ]
        }
      ]
    },
    {
      "cell_type": "code",
      "source": [
        "# review_id table\n",
        "review_id_df = df.select(['review_id', 'customer_id', 'product_id', 'product_parent', 'review_date'])\n",
        "review_id_df = review_id_df.dropna()\n",
        "review_id_df.show()"
      ],
      "metadata": {
        "id": "z1C_Z3AcxwvW",
        "colab": {
          "base_uri": "https://localhost:8080/"
        },
        "outputId": "b5ec44b2-f5aa-40bc-90d8-b50e4bc1a5ee"
      },
      "execution_count": 8,
      "outputs": [
        {
          "output_type": "stream",
          "name": "stdout",
          "text": [
            "+--------------+-----------+----------+--------------+-----------+\n",
            "|     review_id|customer_id|product_id|product_parent|review_date|\n",
            "+--------------+-----------+----------+--------------+-----------+\n",
            "| RJOVP071AVAJO|   25933450| 439873800|      84656342| 2015-08-31|\n",
            "|R1ORGBETCDW3AI|    1801372|1623953553|     729938122| 2015-08-31|\n",
            "|R2NYB6C3R8LVN6|   14005703|1604600527|     800572372| 2015-08-31|\n",
            "|R13U5PBJI1H94K|   36205738| 399170863|     559876774| 2015-08-31|\n",
            "|R1H8UVH990F8VE|   44121167|1517007240|     299984591| 2015-08-31|\n",
            "|R2MC0N30WZMRQ5|   16519255| 671728725|     821650353| 2015-08-31|\n",
            "| R2NO2HXK16Y4J|   49361350|1111349533|     419457767| 2015-08-31|\n",
            "| RFBMLBWQOZ1UM|   37536260| 679413359|      58983679| 2015-08-31|\n",
            "| RHE1FEWV3KTQH|   23614950| 983990662|     222024699| 2015-08-31|\n",
            "|R2G519UREHRO8M|   49735028| 664254969|     248307276| 2015-08-31|\n",
            "| RPBKCEIN3UISD|   39348901|1570913722|       9340721| 2015-08-31|\n",
            "|R2DOB8482VGJ8W|    5782091| 345313860|     630892090| 2015-08-31|\n",
            "|R2XKOET5M8W36S|   30063158| 670025593|     479521754| 2015-08-31|\n",
            "|R32V4KSMU7KPV8|    4123018|1616892285|       8916458| 2015-08-31|\n",
            "|R2690IVU807LZZ|   23010005|1512172227|     979422461| 2015-08-31|\n",
            "| R12EV35YZROIX|   40676812|1938067126|     402004849| 2015-08-31|\n",
            "|R1960YWFGYNOJN|   33612550|1940595223|     548967033| 2015-08-31|\n",
            "|R1S39XFCSASN2X|   31335505| 321955358|     285867457| 2015-08-31|\n",
            "|R1FZYZEBGQANOV|   11078146|1607747308|     839269769| 2015-08-31|\n",
            "|R2NA0R8NJFSCU2|     294842| 133083608|     570921896| 2015-08-31|\n",
            "+--------------+-----------+----------+--------------+-----------+\n",
            "only showing top 20 rows\n",
            "\n"
          ]
        }
      ]
    },
    {
      "cell_type": "code",
      "source": [
        "# products table\n",
        "products_df = df.select(['product_id', 'product_title'])\n",
        "products_df = products_df.dropna()\n",
        "products_df.show()"
      ],
      "metadata": {
        "colab": {
          "base_uri": "https://localhost:8080/"
        },
        "id": "O-T47TwW4Pw5",
        "outputId": "8b35421b-eda9-4957-f284-0b37aad38136"
      },
      "execution_count": 9,
      "outputs": [
        {
          "output_type": "stream",
          "name": "stdout",
          "text": [
            "+----------+--------------------+\n",
            "|product_id|       product_title|\n",
            "+----------+--------------------+\n",
            "| 439873800|There Was an Old ...|\n",
            "|1623953553|      I Saw a Friend|\n",
            "|1604600527|Stars 'N Strips F...|\n",
            "| 399170863|            The Liar|\n",
            "|1517007240|Devil in the Deta...|\n",
            "| 671728725|Knowing When to S...|\n",
            "|1111349533|The American Pageant|\n",
            "| 679413359|The Aeneid (Every...|\n",
            "| 983990662|The YMCA of Middl...|\n",
            "| 664254969|Presbyterian Cree...|\n",
            "|1570913722|Hello Ocean/Hola mar|\n",
            "| 345313860|The Vampire Lesta...|\n",
            "| 670025593|The Book of Life ...|\n",
            "|1616892285|The Bike Deconstr...|\n",
            "|1512172227|The One-Day Weeke...|\n",
            "|1938067126|Crimes of the Edu...|\n",
            "|1940595223|High School Runne...|\n",
            "| 321955358|Microbiology with...|\n",
            "|1607747308|The Life-Changing...|\n",
            "| 133083608|Pearson Reviews &...|\n",
            "+----------+--------------------+\n",
            "only showing top 20 rows\n",
            "\n"
          ]
        }
      ]
    },
    {
      "cell_type": "code",
      "source": [
        "# customers table\n",
        "# customers_df = df.select(['customer_id', ''])\n",
        "customer_df = df.groupBy('customer_id').count()\n",
        "customer_df.show()"
      ],
      "metadata": {
        "colab": {
          "base_uri": "https://localhost:8080/"
        },
        "id": "suHB7boL4jJ_",
        "outputId": "3bb9658f-96a9-4a6d-e121-c28a717f67e9"
      },
      "execution_count": 10,
      "outputs": [
        {
          "output_type": "stream",
          "name": "stdout",
          "text": [
            "+-----------+-----+\n",
            "|customer_id|count|\n",
            "+-----------+-----+\n",
            "|   16747249|    4|\n",
            "|     108460|    1|\n",
            "|   11720077|   31|\n",
            "|     437936|    1|\n",
            "|     128131|    1|\n",
            "|   39647402|    1|\n",
            "|   13730111|    8|\n",
            "|   43783459|    1|\n",
            "|   12493167|  111|\n",
            "|   40325486|   92|\n",
            "|   44618558|    4|\n",
            "|   17956020|    1|\n",
            "|   10093406|    3|\n",
            "|   40430762|    1|\n",
            "|     134924|    1|\n",
            "|   52427934|    1|\n",
            "|   12879980|   15|\n",
            "|   27680937|    7|\n",
            "|   16186289|    1|\n",
            "|   20326078|    1|\n",
            "+-----------+-----+\n",
            "only showing top 20 rows\n",
            "\n"
          ]
        }
      ]
    },
    {
      "cell_type": "code",
      "source": [
        "# vine table\n",
        "vine_df = df.select(['review_id', 'star_rating', 'helpful_vote', 'total_votes', 'vine'])\n",
        "vine_df = vine_df.dropna()\n",
        "vine_df.show()\n"
      ],
      "metadata": {
        "colab": {
          "base_uri": "https://localhost:8080/"
        },
        "id": "w7RKnSt24nMH",
        "outputId": "4dd16460-2a7d-4750-cc17-53ca16b1cebf"
      },
      "execution_count": 11,
      "outputs": [
        {
          "output_type": "stream",
          "name": "stdout",
          "text": [
            "+--------------+-----------+------------+-----------+----+\n",
            "|     review_id|star_rating|helpful_vote|total_votes|vine|\n",
            "+--------------+-----------+------------+-----------+----+\n",
            "| RJOVP071AVAJO|          5|           0|          0|   N|\n",
            "|R1ORGBETCDW3AI|          5|           0|          0|   N|\n",
            "| R7TNRFQAOUTX5|          5|           0|          0|   N|\n",
            "|R2GANXKDIFZ6OI|          5|           0|          0|   N|\n",
            "|R2NYB6C3R8LVN6|          5|           2|          2|   N|\n",
            "|R13U5PBJI1H94K|          2|           1|          1|   N|\n",
            "|R1H8UVH990F8VE|          5|           2|          2|   N|\n",
            "|R2MC0N30WZMRQ5|          5|           0|          0|   N|\n",
            "| R2NO2HXK16Y4J|          5|           0|          0|   N|\n",
            "|R245YIAVJK82ZL|          5|           0|          0|   N|\n",
            "| RFBMLBWQOZ1UM|          5|           0|          0|   N|\n",
            "| RHE1FEWV3KTQH|          5|           0|          0|   N|\n",
            "|R2BB9U7PHO7ETO|          5|           0|          1|   N|\n",
            "|R28XJJP754GYXO|          4|           0|          0|   N|\n",
            "|R2G519UREHRO8M|          3|           0|          1|   N|\n",
            "| RPBKCEIN3UISD|          5|           0|          0|   N|\n",
            "|R2DOB8482VGJ8W|          5|           0|          0|   N|\n",
            "|R2XKOET5M8W36S|          5|           0|          0|   N|\n",
            "|R377BCSTZ4D2QP|          5|           1|          1|   N|\n",
            "|R3A39XZ5SB97MK|          5|           0|          0|   N|\n",
            "+--------------+-----------+------------+-----------+----+\n",
            "only showing top 20 rows\n",
            "\n"
          ]
        }
      ]
    },
    {
      "cell_type": "code",
      "source": [
        "# Configure settings for RDS\n",
        "mode = \"append\"\n",
        "jdbc_url=\"jdbc:postgresql://<endpoint>:5432/classroom_database\"\n",
        "config = {\"user\":\"root\", \n",
        "          \"password\": \"password\", \n",
        "          \"driver\":\"org.postgresql.Driver\"}"
      ],
      "metadata": {
        "id": "iMkW8ncz4owi"
      },
      "execution_count": 12,
      "outputs": []
    },
    {
      "cell_type": "code",
      "source": [
        "review_id_df.write.jdbc(url=jdbc_url, table='review_id_table_1', mode=mode, properties=config)"
      ],
      "metadata": {
        "id": "6Yk5DRl3BozB"
      },
      "execution_count": 15,
      "outputs": []
    },
    {
      "cell_type": "code",
      "source": [
        "products_df.write.jdbc(url=jdbc_url, table=\"products_1\", mode=mode, properties=config)"
      ],
      "metadata": {
        "id": "3tbJyR1kDlxb"
      },
      "execution_count": 18,
      "outputs": []
    },
    {
      "cell_type": "code",
      "source": [
        "customer_df.write.jdbc(url=jdbc_url, table=\"customers_1\", mode=mode, properties=config)"
      ],
      "metadata": {
        "id": "UDfQQomhElxd"
      },
      "execution_count": 17,
      "outputs": []
    },
    {
      "cell_type": "code",
      "source": [
        "vine_df.write.jdbc(url=jdbc_url, table=\"vine_table_1\", mode=mode, properties=config)"
      ],
      "metadata": {
        "id": "3JldSunXG28v"
      },
      "execution_count": null,
      "outputs": []
    }
  ]
}