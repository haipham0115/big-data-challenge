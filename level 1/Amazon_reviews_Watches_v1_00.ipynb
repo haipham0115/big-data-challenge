{
  "nbformat": 4,
  "nbformat_minor": 0,
  "metadata": {
    "colab": {
      "name": "Amazon-reviews:Watches_v1_00.ipynb",
      "provenance": [],
      "collapsed_sections": []
    },
    "kernelspec": {
      "name": "python3",
      "display_name": "Python 3"
    },
    "language_info": {
      "name": "python"
    }
  },
  "cells": [
    {
      "cell_type": "code",
      "execution_count": 1,
      "metadata": {
        "id": "uhPfOXGxlku6",
        "colab": {
          "base_uri": "https://localhost:8080/"
        },
        "outputId": "6020792f-de94-4743-c985-920a179b01b9"
      },
      "outputs": [
        {
          "output_type": "stream",
          "name": "stdout",
          "text": [
            "\r0% [Working]\r            \rIgn:1 https://developer.download.nvidia.com/compute/cuda/repos/ubuntu1804/x86_64  InRelease\n",
            "\r0% [Connecting to archive.ubuntu.com] [Connecting to security.ubuntu.com (91.18\r                                                                               \rGet:2 https://cloud.r-project.org/bin/linux/ubuntu bionic-cran40/ InRelease [3,626 B]\n",
            "\r0% [Connecting to archive.ubuntu.com] [Connecting to security.ubuntu.com (91.18\r0% [Connecting to archive.ubuntu.com] [Connecting to security.ubuntu.com (91.18\r                                                                               \rIgn:3 https://developer.download.nvidia.com/compute/machine-learning/repos/ubuntu1804/x86_64  InRelease\n",
            "\r0% [Connecting to archive.ubuntu.com] [Waiting for headers] [Connecting to ppa.\r0% [2 InRelease gpgv 3,626 B] [Connecting to archive.ubuntu.com] [Waiting for h\r                                                                               \rGet:4 https://developer.download.nvidia.com/compute/cuda/repos/ubuntu1804/x86_64  Release [696 B]\n",
            "\r0% [2 InRelease gpgv 3,626 B] [Connecting to archive.ubuntu.com] [Waiting for h\r0% [2 InRelease gpgv 3,626 B] [Connecting to archive.ubuntu.com] [Waiting for h\r                                                                               \rHit:5 https://developer.download.nvidia.com/compute/machine-learning/repos/ubuntu1804/x86_64  Release\n",
            "\r0% [2 InRelease gpgv 3,626 B] [Connecting to archive.ubuntu.com] [Waiting for h\r                                                                               \rGet:6 https://developer.download.nvidia.com/compute/cuda/repos/ubuntu1804/x86_64  Release.gpg [836 B]\n",
            "Get:7 http://security.ubuntu.com/ubuntu bionic-security InRelease [88.7 kB]\n",
            "Get:8 http://ppa.launchpad.net/c2d4u.team/c2d4u4.0+/ubuntu bionic InRelease [15.9 kB]\n",
            "Hit:9 http://archive.ubuntu.com/ubuntu bionic InRelease\n",
            "Get:10 https://cloud.r-project.org/bin/linux/ubuntu bionic-cran40/ Packages [76.8 kB]\n",
            "Get:11 http://archive.ubuntu.com/ubuntu bionic-updates InRelease [88.7 kB]\n",
            "Hit:12 http://ppa.launchpad.net/cran/libgit2/ubuntu bionic InRelease\n",
            "Get:14 http://archive.ubuntu.com/ubuntu bionic-backports InRelease [74.6 kB]\n",
            "Hit:15 http://ppa.launchpad.net/deadsnakes/ppa/ubuntu bionic InRelease\n",
            "Get:16 https://developer.download.nvidia.com/compute/cuda/repos/ubuntu1804/x86_64  Packages [931 kB]\n",
            "Get:17 http://ppa.launchpad.net/graphics-drivers/ppa/ubuntu bionic InRelease [21.3 kB]\n",
            "Get:18 http://security.ubuntu.com/ubuntu bionic-security/restricted amd64 Packages [806 kB]\n",
            "Get:19 http://security.ubuntu.com/ubuntu bionic-security/universe amd64 Packages [1,474 kB]\n",
            "Get:20 http://security.ubuntu.com/ubuntu bionic-security/main amd64 Packages [2,596 kB]\n",
            "Get:21 http://ppa.launchpad.net/c2d4u.team/c2d4u4.0+/ubuntu bionic/main Sources [1,827 kB]\n",
            "Get:22 http://archive.ubuntu.com/ubuntu bionic-updates/main amd64 Packages [3,036 kB]\n",
            "Get:23 http://ppa.launchpad.net/c2d4u.team/c2d4u4.0+/ubuntu bionic/main amd64 Packages [936 kB]\n",
            "Get:24 http://archive.ubuntu.com/ubuntu bionic-updates/universe amd64 Packages [2,252 kB]\n",
            "Get:25 http://archive.ubuntu.com/ubuntu bionic-updates/restricted amd64 Packages [840 kB]\n",
            "Get:26 http://ppa.launchpad.net/graphics-drivers/ppa/ubuntu bionic/main amd64 Packages [42.8 kB]\n",
            "Fetched 15.1 MB in 6s (2,725 kB/s)\n",
            "Reading package lists... Done\n"
          ]
        }
      ],
      "source": [
        "import os\n",
        "# Find the latest version of spark 3.0  from http://www.apache.org/dist/spark/ and enter as the spark version\n",
        "# For example:\n",
        "# spark_version = 'spark-3.0.3'\n",
        "spark_version = 'spark-3.2.1'\n",
        "os.environ['SPARK_VERSION']=spark_version\n",
        "\n",
        "# Install Spark and Java\n",
        "!apt-get update\n",
        "!apt-get install openjdk-8-jdk-headless -qq > /dev/null\n",
        "!wget -q http://www.apache.org/dist/spark/$SPARK_VERSION/$SPARK_VERSION-bin-hadoop2.7.tgz\n",
        "!tar xf $SPARK_VERSION-bin-hadoop2.7.tgz\n",
        "!pip install -q findspark\n",
        "\n",
        "# Set Environment Variables\n",
        "os.environ[\"JAVA_HOME\"] = \"/usr/lib/jvm/java-8-openjdk-amd64\"\n",
        "os.environ[\"SPARK_HOME\"] = f\"/content/{spark_version}-bin-hadoop2.7\"\n",
        "\n",
        "# Start a SparkSession\n",
        "import findspark\n",
        "findspark.init()"
      ]
    },
    {
      "cell_type": "code",
      "source": [
        "!wget https://jdbc.postgresql.org/download/postgresql-42.2.9.jar "
      ],
      "metadata": {
        "colab": {
          "base_uri": "https://localhost:8080/"
        },
        "id": "i0dsxl6WIY0m",
        "outputId": "60fdc239-ba9a-4980-f202-2306aa030c20"
      },
      "execution_count": 2,
      "outputs": [
        {
          "output_type": "stream",
          "name": "stdout",
          "text": [
            "--2022-03-06 07:29:45--  https://jdbc.postgresql.org/download/postgresql-42.2.9.jar\n",
            "Resolving jdbc.postgresql.org (jdbc.postgresql.org)... 72.32.157.228, 2001:4800:3e1:1::228\n",
            "Connecting to jdbc.postgresql.org (jdbc.postgresql.org)|72.32.157.228|:443... connected.\n",
            "HTTP request sent, awaiting response... 200 OK\n",
            "Length: 914037 (893K) [application/java-archive]\n",
            "Saving to: ‘postgresql-42.2.9.jar’\n",
            "\n",
            "postgresql-42.2.9.j 100%[===================>] 892.61K  5.46MB/s    in 0.2s    \n",
            "\n",
            "2022-03-06 07:29:46 (5.46 MB/s) - ‘postgresql-42.2.9.jar’ saved [914037/914037]\n",
            "\n"
          ]
        }
      ]
    },
    {
      "cell_type": "code",
      "source": [
        "# Start Spark session\n",
        "from pyspark.sql import SparkSession\n",
        "spark = SparkSession.builder.appName(\"Demographics\").getOrCreate()"
      ],
      "metadata": {
        "id": "P64Ig8jhnhph"
      },
      "execution_count": 4,
      "outputs": []
    },
    {
      "cell_type": "code",
      "source": [
        "# Read in data from S3 Buckets\n",
        "from pyspark.sql.types import StructType,StructField, StringType, IntegerType\n",
        "from pyspark import SparkFiles\n",
        "url = 'https://s3.amazonaws.com/amazon-reviews-pds/tsv/amazon_reviews_us_Watches_v1_00.tsv.gz'\n",
        "spark.sparkContext.addFile(url)\n",
        "\n",
        "schema = StructType([ \n",
        "    StructField(\"marketplace\",StringType(),True), \n",
        "    StructField(\"customer_id\",IntegerType(),True), \n",
        "    StructField(\"review_id\",StringType(),True), \n",
        "    StructField(\"product_id\", IntegerType(), True),\n",
        "    StructField(\"product_parent\", IntegerType(), True),\n",
        "    StructField(\"product_title\", StringType(), True),\n",
        "    StructField(\"product_category\", StringType(), True),\n",
        "    StructField(\"star_rating\", IntegerType(), True),\n",
        "    StructField('helpful_vote', IntegerType(), True),\n",
        "    StructField('total_votes', IntegerType(), True),\n",
        "    StructField('vine', StringType(), True),\n",
        "    StructField('verified_purchase', StringType(), True),\n",
        "    StructField('review_headline', StringType(), True),\n",
        "    StructField('review_body', StringType(), True),\n",
        "    StructField('review_date', StringType(), True),\n",
        "  ])\n",
        "\n",
        "df = spark.read.csv(SparkFiles.get(\"amazon_reviews_us_Watches_v1_00.tsv.gz\"), sep=\"\\t\", header=True, schema=schema, timestampFormat=\"yyyy/MM/dd HH:mm:ss\")\n",
        "\n",
        "# Show DataFrame\n",
        "df.show()"
      ],
      "metadata": {
        "id": "phFcYMMynxIL",
        "colab": {
          "base_uri": "https://localhost:8080/"
        },
        "outputId": "7a54a4ca-77ee-4209-fd3f-280802805e49"
      },
      "execution_count": 6,
      "outputs": [
        {
          "output_type": "stream",
          "name": "stdout",
          "text": [
            "+-----------+-----------+--------------+----------+--------------+--------------------+----------------+-----------+------------+-----------+----+-----------------+--------------------+--------------------+-----------+\n",
            "|marketplace|customer_id|     review_id|product_id|product_parent|       product_title|product_category|star_rating|helpful_vote|total_votes|vine|verified_purchase|     review_headline|         review_body|review_date|\n",
            "+-----------+-----------+--------------+----------+--------------+--------------------+----------------+-----------+------------+-----------+----+-----------------+--------------------+--------------------+-----------+\n",
            "|         US|    3653882|R3O9SGZBVQBV76|      null|     937001370|Invicta Women's 1...|         Watches|          5|           0|          0|   N|                Y|          Five Stars|Absolutely love t...| 2015-08-31|\n",
            "|         US|   14661224| RKH8BNC3L5DLF|      null|     484010722|Kenneth Cole New ...|         Watches|          5|           0|          0|   N|                Y|I love thiswatch ...|I love this watch...| 2015-08-31|\n",
            "|         US|   27324930|R2HLE8WKZSU3NL|      null|     361166390|Ritche 22mm Black...|         Watches|          2|           1|          1|   N|                Y|           Two Stars|           Scratches| 2015-08-31|\n",
            "|         US|    7211452|R31U3UH5AZ42LL|      null|     958035625|Citizen Men's BM8...|         Watches|          5|           0|          0|   N|                Y|          Five Stars|It works well on ...| 2015-08-31|\n",
            "|         US|   12733322|R2SV659OUJ945Y|      null|     765328221|Orient ER27009B M...|         Watches|          4|           0|          0|   N|                Y|Beautiful face, b...|Beautiful watch f...| 2015-08-31|\n",
            "|         US|    6576411| RA51CP8TR5A2L|      null|     230493695|Casio Men's GW-94...|         Watches|          5|           0|          0|   N|                Y|       No complaints|i love this watch...| 2015-08-31|\n",
            "|         US|   11811565| RB2Q7DLDN6TH6|      null|     549298279|Fossil Women's ES...|         Watches|          5|           1|          1|   N|                Y|          Five Stars|for my wife and s...| 2015-08-31|\n",
            "|         US|   49401598|R2RHFJV0UYBK3Y|      null|     844009113|INFANTRY Mens Nig...|         Watches|          1|           1|          5|   N|                N|I was about to bu...|I was about to bu...| 2015-08-31|\n",
            "|         US|   45925069|R2Z6JOQ94LFHEP|      null|     263720892|G-Shock Men's Gre...|         Watches|          5|           1|          2|   N|                Y|      Perfect watch!|Watch is perfect....| 2015-08-31|\n",
            "|         US|   44751341| RX27XIIWY5JPB|      null|     124278407|Heiden Quad Watch...|         Watches|          4|           0|          0|   N|                Y|Great quality and...|Great quality and...| 2015-08-31|\n",
            "|         US|    9962330|R15C7QEZT0LGZN|      null|      28017857|Fossil Women's ES...|         Watches|          4|           2|          2|   N|                Y|           Satisfied|The watch was pre...| 2015-08-31|\n",
            "|         US|   16097204|R361XSS37V0NCZ|      null|     685450910|Casio General Men...|         Watches|          1|           0|          0|   N|                N|I do not think th...|I bought this wat...| 2015-08-31|\n",
            "|         US|   51330346| ROTNLALUAJAUB|      null|     767769082|2Tone Gold Silver...|         Watches|          3|           0|          0|   N|                Y|         Three Stars|It is a cheap wat...| 2015-08-31|\n",
            "|         US|    4201739|R2DYX7QU6BGOHR|      null|     648595227|Bulova Men's 98B1...|         Watches|          5|           0|          0|   N|                Y|          Five Stars|Heavier than i th...| 2015-08-31|\n",
            "|         US|   26339765| RWASY7FKI7QOT|      null|     457338020|Casio - G-Shock -...|         Watches|          5|           2|          3|   N|                Y|  Worth it - love it|Had it for severa...| 2015-08-31|\n",
            "|         US|    2692576|R2KKYZIN3CCL21|      null|     824370661|Invicta Men's 332...|         Watches|          5|           0|          0|   N|                Y|This is when diff...|This one is diffe...| 2015-08-31|\n",
            "|         US|   44713366|R22H4FGVD5O52O|      null|     814431355|Seiko Women's SUT...|         Watches|          4|           1|          1|   N|                Y|Thewatch is attra...|The watch is attr...| 2015-08-31|\n",
            "|         US|   32778769|R11UACZERCM4ZY|      null|     187700878|Anne Klein Women'...|         Watches|          5|           0|          0|   N|                Y|          Five Stars|      said my wife..| 2015-08-31|\n",
            "|         US|   27258523|R1AT8NQ38UQOL6|      null|     594315262|Guess U13630G1 Me...|         Watches|          5|           0|          0|   N|                Y|          Five Stars|Nice watch, on ti...| 2015-08-31|\n",
            "|         US|   42646538|R2NCZRQGIF1Q75|      null|     520810507|Nixon Men's Geo V...|         Watches|          4|           0|          0|   N|                Y|        Very stylish|Looks great and l...| 2015-08-31|\n",
            "+-----------+-----------+--------------+----------+--------------+--------------------+----------------+-----------+------------+-----------+----+-----------------+--------------------+--------------------+-----------+\n",
            "only showing top 20 rows\n",
            "\n"
          ]
        }
      ]
    },
    {
      "cell_type": "code",
      "source": [
        "# total records (number of rows): 960872 rows \n",
        "df.count()"
      ],
      "metadata": {
        "colab": {
          "base_uri": "https://localhost:8080/"
        },
        "id": "6H-3pDQOIsF1",
        "outputId": "b556ccb3-daa5-4c13-9e69-6acf7597fe4b"
      },
      "execution_count": 7,
      "outputs": [
        {
          "output_type": "execute_result",
          "data": {
            "text/plain": [
              "960872"
            ]
          },
          "metadata": {},
          "execution_count": 7
        }
      ]
    },
    {
      "cell_type": "code",
      "source": [
        "df.printSchema()"
      ],
      "metadata": {
        "colab": {
          "base_uri": "https://localhost:8080/"
        },
        "id": "qMzheCPSJAdr",
        "outputId": "1b152a7e-4be1-424a-b524-7ffd62625eb9"
      },
      "execution_count": 8,
      "outputs": [
        {
          "output_type": "stream",
          "name": "stdout",
          "text": [
            "root\n",
            " |-- marketplace: string (nullable = true)\n",
            " |-- customer_id: integer (nullable = true)\n",
            " |-- review_id: string (nullable = true)\n",
            " |-- product_id: integer (nullable = true)\n",
            " |-- product_parent: integer (nullable = true)\n",
            " |-- product_title: string (nullable = true)\n",
            " |-- product_category: string (nullable = true)\n",
            " |-- star_rating: integer (nullable = true)\n",
            " |-- helpful_vote: integer (nullable = true)\n",
            " |-- total_votes: integer (nullable = true)\n",
            " |-- vine: string (nullable = true)\n",
            " |-- verified_purchase: string (nullable = true)\n",
            " |-- review_headline: string (nullable = true)\n",
            " |-- review_body: string (nullable = true)\n",
            " |-- review_date: string (nullable = true)\n",
            "\n"
          ]
        }
      ]
    },
    {
      "cell_type": "code",
      "source": [
        "# review_id table\n",
        "review_id_df = df.select(['review_id', 'customer_id', 'product_id', 'product_parent', 'review_date'])\n",
        "review_id_df = review_id_df.dropna()\n",
        "review_id_df.show()"
      ],
      "metadata": {
        "colab": {
          "base_uri": "https://localhost:8080/"
        },
        "id": "zIc6QgVxJC3p",
        "outputId": "d0532cb4-8169-4875-8d27-23b89dcc9be8"
      },
      "execution_count": 9,
      "outputs": [
        {
          "output_type": "stream",
          "name": "stdout",
          "text": [
            "+--------------+-----------+----------+--------------+-----------+\n",
            "|     review_id|customer_id|product_id|product_parent|review_date|\n",
            "+--------------+-----------+----------+--------------+-----------+\n",
            "|R1HV2WX91XXH2X|   12497360|1850813491|     645298931| 2014-07-31|\n",
            "|R12R22J82MGZOC|   36487387|1397458135|     262368674| 2013-05-13|\n",
            "|R3UZ3JCAN5LGEZ|   51483206|1380137136|     518987366| 2013-03-14|\n",
            "|R3IEK1LOS66U53|   15274551|1880241196|     582737217| 2012-12-12|\n",
            "+--------------+-----------+----------+--------------+-----------+\n",
            "\n"
          ]
        }
      ]
    },
    {
      "cell_type": "code",
      "source": [
        "# products table\n",
        "products_df = df.select(['product_id', 'product_title'])\n",
        "products_df = products_df.dropna()\n",
        "products_df.show()"
      ],
      "metadata": {
        "colab": {
          "base_uri": "https://localhost:8080/"
        },
        "id": "Enh0nwmkJJzh",
        "outputId": "8b75430d-a87a-4cc8-b3ef-84d718f302cb"
      },
      "execution_count": 10,
      "outputs": [
        {
          "output_type": "stream",
          "name": "stdout",
          "text": [
            "+----------+--------------------+\n",
            "|product_id|       product_title|\n",
            "+----------+--------------------+\n",
            "|1850813491|Casio Men's Watch...|\n",
            "|1397458135|New Smart Steampu...|\n",
            "|1380137136|Bronze Brass Past...|\n",
            "|1880241196|Bird Watching For...|\n",
            "+----------+--------------------+\n",
            "\n"
          ]
        }
      ]
    },
    {
      "cell_type": "code",
      "source": [
        "# customers table\n",
        "customer_df = df.groupBy('customer_id').count()\n",
        "customer_df.show()"
      ],
      "metadata": {
        "colab": {
          "base_uri": "https://localhost:8080/"
        },
        "id": "qbx02zeyJPLv",
        "outputId": "1021d3ac-ce79-49f0-eb1b-8efb67f872eb"
      },
      "execution_count": 11,
      "outputs": [
        {
          "output_type": "stream",
          "name": "stdout",
          "text": [
            "+-----------+-----+\n",
            "|customer_id|count|\n",
            "+-----------+-----+\n",
            "|    1567510|    1|\n",
            "|   19502021|    1|\n",
            "|   12819130|    1|\n",
            "|   35329257|    2|\n",
            "|     108460|    1|\n",
            "|    5453476|    1|\n",
            "|   29913055|    1|\n",
            "|   30717305|    1|\n",
            "|    1570030|    1|\n",
            "|   19032020|    1|\n",
            "|   44178035|    1|\n",
            "|   26079415|    2|\n",
            "|   14230926|    1|\n",
            "|   43478048|    2|\n",
            "|   43694941|    1|\n",
            "|   12318815|    3|\n",
            "|   13731855|    1|\n",
            "|     740134|    1|\n",
            "|   41956754|    1|\n",
            "|   20324070|    3|\n",
            "+-----------+-----+\n",
            "only showing top 20 rows\n",
            "\n"
          ]
        }
      ]
    },
    {
      "cell_type": "code",
      "source": [
        "# vine table\n",
        "vine_df = df.select(['review_id', 'star_rating', 'helpful_vote', 'total_votes', 'vine'])\n",
        "vine_df = vine_df.dropna()\n",
        "vine_df.show()"
      ],
      "metadata": {
        "colab": {
          "base_uri": "https://localhost:8080/"
        },
        "id": "HdzOlG_ZJRGk",
        "outputId": "c1fa0381-b390-4590-ecf2-8966f60965d3"
      },
      "execution_count": 12,
      "outputs": [
        {
          "output_type": "stream",
          "name": "stdout",
          "text": [
            "+--------------+-----------+------------+-----------+----+\n",
            "|     review_id|star_rating|helpful_vote|total_votes|vine|\n",
            "+--------------+-----------+------------+-----------+----+\n",
            "|R3O9SGZBVQBV76|          5|           0|          0|   N|\n",
            "| RKH8BNC3L5DLF|          5|           0|          0|   N|\n",
            "|R2HLE8WKZSU3NL|          2|           1|          1|   N|\n",
            "|R31U3UH5AZ42LL|          5|           0|          0|   N|\n",
            "|R2SV659OUJ945Y|          4|           0|          0|   N|\n",
            "| RA51CP8TR5A2L|          5|           0|          0|   N|\n",
            "| RB2Q7DLDN6TH6|          5|           1|          1|   N|\n",
            "|R2RHFJV0UYBK3Y|          1|           1|          5|   N|\n",
            "|R2Z6JOQ94LFHEP|          5|           1|          2|   N|\n",
            "| RX27XIIWY5JPB|          4|           0|          0|   N|\n",
            "|R15C7QEZT0LGZN|          4|           2|          2|   N|\n",
            "|R361XSS37V0NCZ|          1|           0|          0|   N|\n",
            "| ROTNLALUAJAUB|          3|           0|          0|   N|\n",
            "|R2DYX7QU6BGOHR|          5|           0|          0|   N|\n",
            "| RWASY7FKI7QOT|          5|           2|          3|   N|\n",
            "|R2KKYZIN3CCL21|          5|           0|          0|   N|\n",
            "|R22H4FGVD5O52O|          4|           1|          1|   N|\n",
            "|R11UACZERCM4ZY|          5|           0|          0|   N|\n",
            "|R1AT8NQ38UQOL6|          5|           0|          0|   N|\n",
            "|R2NCZRQGIF1Q75|          4|           0|          0|   N|\n",
            "+--------------+-----------+------------+-----------+----+\n",
            "only showing top 20 rows\n",
            "\n"
          ]
        }
      ]
    },
    {
      "cell_type": "code",
      "source": [
        "# Configure settings for RDS\n",
        "mode = \"append\"\n",
        "jdbc_url=\"jdbc:postgresql://<endpoint>:5432/classroom_database\"\n",
        "config = {\"user\":\"root\", \n",
        "          \"password\": \"password\", \n",
        "          \"driver\":\"org.postgresql.Driver\"}"
      ],
      "metadata": {
        "id": "-1FeDpCDJTwW"
      },
      "execution_count": null,
      "outputs": []
    },
    {
      "cell_type": "code",
      "source": [
        "review_id_df.write.jdbc(url=jdbc_url, table='review_id_table_2', mode=mode, properties=config)"
      ],
      "metadata": {
        "id": "i_-eO_YdJYcc"
      },
      "execution_count": null,
      "outputs": []
    },
    {
      "cell_type": "code",
      "source": [
        "products_df.write.jdbc(url=jdbc_url, table=\"products_2\", mode=mode, properties=config)"
      ],
      "metadata": {
        "id": "LEFP8qTRJYeg"
      },
      "execution_count": null,
      "outputs": []
    },
    {
      "cell_type": "code",
      "source": [
        "customer_df.write.jdbc(url=jdbc_url, table=\"customers_2\", mode=mode, properties=config)"
      ],
      "metadata": {
        "id": "uhHLGt82JYhE"
      },
      "execution_count": null,
      "outputs": []
    },
    {
      "cell_type": "code",
      "source": [
        "vine_df.write.jdbc(url=jdbc_url, table=\"vine_table_2\", mode=mode, properties=config)"
      ],
      "metadata": {
        "id": "BqHpWhm3JYyj"
      },
      "execution_count": null,
      "outputs": []
    }
  ]
}